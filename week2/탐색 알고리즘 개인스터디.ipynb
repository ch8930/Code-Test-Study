{
 "cells": [
  {
   "cell_type": "code",
   "execution_count": 30,
   "metadata": {},
   "outputs": [
    {
     "name": "stdout",
     "output_type": "stream",
     "text": [
      "15 14\n",
      "0 0 0 0 0 1 1 1 1 0 0 0 0 0 \n",
      "1 1 1 1 1 1 0 1 1 1 1 1 1 0 \n",
      "1 1 0 1 1 1 0 1 1 0 1 1 1 0 \n",
      "1 1 0 1 1 1 0 1 1 0 0 0 0 0 \n",
      "1 1 0 1 1 1 1 1 1 1 1 1 1 1 \n",
      "1 1 0 1 1 1 1 1 1 1 1 1 0 0 \n",
      "1 1 0 0 0 0 0 0 0 1 1 1 1 1 \n",
      "0 1 1 1 1 1 1 1 1 1 1 1 1 1 \n",
      "0 0 0 0 0 0 0 0 0 1 1 1 1 1 \n",
      "0 1 1 1 1 1 1 1 1 1 1 0 0 0 \n",
      "0 0 0 1 1 1 1 1 1 1 1 0 0 0 \n",
      "0 0 0 0 0 0 0 1 1 1 1 0 0 0 \n",
      "1 1 1 1 1 1 1 1 1 1 0 0 1 1 \n",
      "1 1 1 0 0 0 1 1 1 1 1 1 1 1 \n",
      "1 1 1 0 0 0 1 1 1 1 1 1 1 1 \n",
      "8\n"
     ]
    }
   ],
   "source": [
    "# 음료수 얼려먹기\n",
    "n, m = map(int, input().split())\n",
    "\n",
    "print(n, m)\n",
    "\n",
    "array = []\n",
    "\n",
    "for i in range(n):\n",
    "    array.append(list(map(int, input())))\n",
    "    \n",
    "for i in range(n):\n",
    "    for j in range(m):\n",
    "        print(array[i][j], end=' ')\n",
    "    print()    \n",
    "\n",
    "def dfs(x,y):\n",
    "    \n",
    "    if 0<= x <n and 0<= y <m and array[x][y] == 0 :\n",
    "        \n",
    "        array[x][y] = 1\n",
    "        \n",
    "        dfs(x-1, y)\n",
    "        dfs(x, y-1)\n",
    "        dfs(x+1, y)\n",
    "        dfs(x, y+1)\n",
    "        return True\n",
    "    # 기준 노드로부터 0인 노드들 탐색해서 1로 변경\n",
    "    \n",
    "    return False\n",
    "\n",
    "result = 0\n",
    "\n",
    "for i in range(n):\n",
    "    for j in range(m):\n",
    "        if dfs(i,j) == True : \n",
    "            result += 1\n",
    "\n",
    "print(result)\n",
    "    "
   ]
  },
  {
   "cell_type": "code",
   "execution_count": 24,
   "metadata": {},
   "outputs": [
    {
     "name": "stdout",
     "output_type": "stream",
     "text": [
      "5 6\n",
      "1 0 1 0 1 0 \n",
      "1 1 1 1 1 1 \n",
      "0 0 0 0 0 1 \n",
      "1 1 1 1 1 1 \n",
      "1 1 1 1 1 1 \n",
      "\n",
      "3  0  5  0  7  0  \n",
      "2  3  4  5  6  7  \n",
      "0  0  0  0  0  8  \n",
      "14  13  12  11  10  9  \n",
      "15  14  13  12  11  10  \n",
      "10\n"
     ]
    }
   ],
   "source": [
    "# 미로탈출\n",
    "from collections import deque\n",
    "\n",
    "n, m = map(int, input().split())\n",
    "print(n, m)\n",
    "array = []\n",
    "for i in range(n):\n",
    "    array.append(list(map(int, input())))\n",
    "    \n",
    "for i in range(n):\n",
    "    for j in range(m):\n",
    "        print(array[i][j], end=' ')\n",
    "    print()\n",
    "\n",
    "print()    \n",
    "\n",
    "q = deque()\n",
    "q.append((0,0))\n",
    "\n",
    "move = {'U':(-1, 0), 'R':(0, 1), 'D':(1, 0), 'L':(0, -1)}\n",
    "result = 0\n",
    "\n",
    "while q:\n",
    "   \n",
    "    # 현재 위치\n",
    "    x, y = q.popleft()\n",
    "        \n",
    "    for i in move:\n",
    "        dx = x + move[i][0]\n",
    "        dy = y + move[i][1]\n",
    "        \n",
    "        if 0<= dx < n and 0<= dy <m and array[dx][dy] == 1 :\n",
    "            # 인접 노드 탐색 후 큐에 삽입\n",
    "            q.append((dx,dy))\n",
    "            array[dx][dy] += array[x][y] \n",
    "            \n",
    "for i in range(n):\n",
    "    for j in range(m):\n",
    "        print(array[i][j], end='  ')\n",
    "    print()        \n",
    "            \n",
    "    \n",
    "print(array[n-1][m-1])       \n",
    "       "
   ]
  }
 ],
 "metadata": {
  "kernelspec": {
   "display_name": "Python 3",
   "language": "python",
   "name": "python3"
  },
  "language_info": {
   "codemirror_mode": {
    "name": "ipython",
    "version": 3
   },
   "file_extension": ".py",
   "mimetype": "text/x-python",
   "name": "python",
   "nbconvert_exporter": "python",
   "pygments_lexer": "ipython3",
   "version": "3.10.9"
  }
 },
 "nbformat": 4,
 "nbformat_minor": 2
}
