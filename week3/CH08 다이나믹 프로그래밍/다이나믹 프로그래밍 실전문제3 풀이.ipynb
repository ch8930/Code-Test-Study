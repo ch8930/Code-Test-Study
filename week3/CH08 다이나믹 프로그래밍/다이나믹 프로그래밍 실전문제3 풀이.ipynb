{
 "cells": [
  {
   "cell_type": "code",
   "execution_count": 8,
   "metadata": {},
   "outputs": [
    {
     "name": "stdout",
     "output_type": "stream",
     "text": [
      "[5, 1, 1, 1, 8, 7]\n",
      "14\n"
     ]
    }
   ],
   "source": [
    "# 실전 문제3 - 개미전사\n",
    "\n",
    "n = int(input())\n",
    "stock = list(map(int, input().split()))\n",
    "print(stock)\n",
    "\n",
    "d = [0]*101\n",
    "\n",
    "d[1] = stock[0]\n",
    "d[2] = max(stock[0],stock[1])\n",
    "\n",
    "for i in range(3, n+1):\n",
    "    d[i] = max(stock[i-1]+d[i-2], d[i-1])\n",
    "\n",
    "print(d[n])   "
   ]
  },
  {
   "cell_type": "code",
   "execution_count": 6,
   "metadata": {},
   "outputs": [
    {
     "name": "stdout",
     "output_type": "stream",
     "text": [
      "3(으)로 화폐를 만들 수 없어유\n"
     ]
    }
   ],
   "source": [
    "j=3\n",
    "print(f\"{j}(으)로 화폐를 만들 수 없어유\")"
   ]
  }
 ],
 "metadata": {
  "kernelspec": {
   "display_name": "Python 3",
   "language": "python",
   "name": "python3"
  },
  "language_info": {
   "codemirror_mode": {
    "name": "ipython",
    "version": 3
   },
   "file_extension": ".py",
   "mimetype": "text/x-python",
   "name": "python",
   "nbconvert_exporter": "python",
   "pygments_lexer": "ipython3",
   "version": "3.10.9"
  }
 },
 "nbformat": 4,
 "nbformat_minor": 2
}
