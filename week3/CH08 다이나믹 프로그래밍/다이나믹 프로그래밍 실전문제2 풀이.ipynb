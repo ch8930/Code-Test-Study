{
 "cells": [
  {
   "cell_type": "code",
   "execution_count": 6,
   "metadata": {},
   "outputs": [
    {
     "name": "stdout",
     "output_type": "stream",
     "text": [
      "4\n"
     ]
    }
   ],
   "source": [
    "# 실전 문제2 - 1로 만들기\n",
    "\n",
    "n = int(input())\n",
    "\n",
    "idea = {1:lambda x: x*5, 2:lambda x:x*3, 3:lambda x:x*2, 4:lambda x:x+1}\n",
    "k = 1\n",
    "i = 0\n",
    "result = []\n",
    "result.append(k)\n",
    "\n",
    "while result[-1] < n :\n",
    "    \n",
    "    if idea[1](result[-1]) <= n :\n",
    "        result.append(idea[1](result[-1])) \n",
    "    elif idea[2](result[-1]) <= n :\n",
    "        result.append(idea[2](result[-1])) \n",
    "    elif idea[3](result[-1]) <= n :\n",
    "        result.append(idea[3](result[-1])) \n",
    "    elif idea[4](result[-1]) <= n :\n",
    "        result.append(idea[4](result[-1])) \n",
    "    else:\n",
    "        break\n",
    "    i += 1\n",
    "\n",
    "    \n",
    "print(i)            \n",
    "\n",
    "# 해당 방식은 그리디 방식을 사용하였기에 27 같은 케이스의 경우 올바른 결과가 도출되지 못함.."
   ]
  },
  {
   "cell_type": "code",
   "execution_count": 10,
   "metadata": {},
   "outputs": [
    {
     "name": "stdout",
     "output_type": "stream",
     "text": [
      "2\n",
      "[0, 1, 1, 2, 1, 2]\n"
     ]
    }
   ],
   "source": [
    "# retry!\n",
    "\n",
    "d = [0]*300001\n",
    "\n",
    "n = int(input())\n",
    "\n",
    "for i in range(2, n+1):\n",
    "    \n",
    "    d[i] = d[i-1] + 1\n",
    "    \n",
    "    if i % 2 == 0 :\n",
    "        d[i] = min(d[i], d[i//2]+1)\n",
    "    elif i % 3 == 0 :\n",
    "        d[i] = min(d[i], d[i//3]+1)\n",
    "    elif i % 5 == 0 :\n",
    "        d[i] = min(d[i], d[i//5]+1)   \n",
    "\n",
    "print(d[n])  \n",
    "print(d[1:n+1])       "
   ]
  }
 ],
 "metadata": {
  "kernelspec": {
   "display_name": "Python 3",
   "language": "python",
   "name": "python3"
  },
  "language_info": {
   "codemirror_mode": {
    "name": "ipython",
    "version": 3
   },
   "file_extension": ".py",
   "mimetype": "text/x-python",
   "name": "python",
   "nbconvert_exporter": "python",
   "pygments_lexer": "ipython3",
   "version": "3.10.9"
  }
 },
 "nbformat": 4,
 "nbformat_minor": 2
}
