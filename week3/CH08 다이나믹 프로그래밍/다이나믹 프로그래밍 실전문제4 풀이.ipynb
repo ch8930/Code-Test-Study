{
 "cells": [
  {
   "cell_type": "code",
   "execution_count": 4,
   "metadata": {},
   "outputs": [
    {
     "name": "stdout",
     "output_type": "stream",
     "text": [
      "11\n"
     ]
    }
   ],
   "source": [
    "# 실전 문제4 - 바닥공사\n",
    "\n",
    "n = int(input())\n",
    "\n",
    "d= [0]*1001\n",
    "\n",
    "d[1] = 1\n",
    "d[2] = 3\n",
    "\n",
    "\n",
    "for i in range(3, n+1):\n",
    "    d[i] = d[i-1] + d[i-2]*2\n",
    "\n",
    "print(d[n])        "
   ]
  },
  {
   "cell_type": "code",
   "execution_count": 21,
   "metadata": {},
   "outputs": [
    {
     "name": "stdout",
     "output_type": "stream",
     "text": [
      "[1]\n",
      "2를 만드는데 필요한 화폐 개수 1\n",
      "[1]\n",
      "3를 만드는데 필요한 화폐 개수 1\n",
      "[2]\n",
      "4를 만드는데 필요한 화폐 개수 2\n",
      "[2, 2]\n",
      "5를 만드는데 필요한 화폐 개수 2\n",
      "[3, 2]\n",
      "6를 만드는데 필요한 화폐 개수 2\n",
      "[3, 3]\n",
      "7를 만드는데 필요한 화폐 개수 3\n",
      "[3, 3]\n",
      "8를 만드는데 필요한 화폐 개수 3\n",
      "[4, 3]\n",
      "9를 만드는데 필요한 화폐 개수 3\n",
      "[4, 4]\n",
      "10를 만드는데 필요한 화폐 개수 4\n",
      "[4, 4]\n",
      "11를 만드는데 필요한 화폐 개수 4\n",
      "[5, 4]\n",
      "12를 만드는데 필요한 화폐 개수 4\n",
      "[5, 5]\n",
      "13를 만드는데 필요한 화폐 개수 5\n",
      "[5, 5]\n",
      "14를 만드는데 필요한 화폐 개수 5\n",
      "[6, 5]\n",
      "15를 만드는데 필요한 화폐 개수 5\n",
      "5\n"
     ]
    }
   ],
   "source": [
    "# 실전 문제5 - 효율적인 화폐 구성\n",
    "\n",
    "n, m = map(int,input().split())\n",
    "coins = []\n",
    "d=[0]*10001\n",
    "candidate=[]\n",
    "\n",
    "for i in range(n):\n",
    "    coins.append(int(input()))\n",
    "\n",
    "for i in range(1, min(coins)):\n",
    "    d[i] = -1\n",
    "    \n",
    "for i in range(min(coins), m+1):\n",
    "    candidate.clear()\n",
    "    for coin in coins:\n",
    "        if i>=coin and d[i-coin] >=0 :\n",
    "            candidate.append(d[i-coin]+1)\n",
    "    \n",
    "    if candidate:\n",
    "        d[i] = min(candidate)\n",
    "    else:\n",
    "        d[i] = -1 \n",
    "      \n",
    "    \n",
    "print(d[m])                \n",
    "    "
   ]
  },
  {
   "cell_type": "code",
   "execution_count": 4,
   "metadata": {},
   "outputs": [
    {
     "name": "stdout",
     "output_type": "stream",
     "text": [
      "-1\n"
     ]
    }
   ],
   "source": [
    "# 실전 문제5 - 효율적인 화폐 구성\n",
    "\n",
    "n, m = map(int,input().split())\n",
    "coins = []\n",
    "\n",
    "for i in range(n):\n",
    "    coins.append(int(input()))\n",
    "\n",
    "d=[10001]*(m+1)\n",
    "d[0] = 0\n",
    "\n",
    "for coin in coins:\n",
    "    for j in range(min(coins), m+1):\n",
    "        if d[j-coin] != 10001:\n",
    "            d[j] = min(d[j-coin]+1, d[j])\n",
    "                \n",
    "    \n",
    "print(-1 if d[j] == 10001 else d[j]) "
   ]
  }
 ],
 "metadata": {
  "kernelspec": {
   "display_name": "Python 3",
   "language": "python",
   "name": "python3"
  },
  "language_info": {
   "codemirror_mode": {
    "name": "ipython",
    "version": 3
   },
   "file_extension": ".py",
   "mimetype": "text/x-python",
   "name": "python",
   "nbconvert_exporter": "python",
   "pygments_lexer": "ipython3",
   "version": "3.10.9"
  }
 },
 "nbformat": 4,
 "nbformat_minor": 2
}
