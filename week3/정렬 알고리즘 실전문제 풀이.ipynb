{
 "cells": [
  {
   "cell_type": "code",
   "execution_count": 3,
   "metadata": {},
   "outputs": [
    {
     "name": "stdout",
     "output_type": "stream",
     "text": [
      "27 15 12 "
     ]
    }
   ],
   "source": [
    "# 실전 문제2 - 위에서 아래로\n",
    "\n",
    "n = int(input())\n",
    "\n",
    "array = []\n",
    "for i in range(n):\n",
    "    array.append(int(input()))\n",
    "    \n",
    "array.sort(reverse=True)    # 혹은 result = sorted(array, reverse=True) 후 result를 출력해도 동일한 결과를 얻을 수 있다\n",
    "\n",
    "for i in range(n):\n",
    "    print(array[i], end= \" \")   \n",
    "    "
   ]
  },
  {
   "cell_type": "code",
   "execution_count": 4,
   "metadata": {},
   "outputs": [
    {
     "name": "stdout",
     "output_type": "stream",
     "text": [
      "이순신 홍길동 "
     ]
    }
   ],
   "source": [
    "# 실전 문제3 - 성적이 낮은 순서로 학생 출력하기\n",
    "n = int(input())\n",
    "\n",
    "array = []\n",
    "for i in range(n):\n",
    "    x, y = input().split()\n",
    "    array.append((x,int(y)))\n",
    "'''\n",
    "for i in range(n):\n",
    "    input_data = input().split()\n",
    "    array.append((input_data[0], int(input_data[1]))\n",
    "\n",
    "array = sorted(array, key=lambda student: student[1])\n",
    "\n",
    "for student in array:\n",
    "    print(student[0], end=' ')\n",
    "\n",
    "'''\n",
    "\n",
    "'''\n",
    "def setting(data):\n",
    "    return data[1]\n",
    "\n",
    "result = sorted(array, key=setting)     # 시간 복잡도 NlogN을 보장하는 정렬방식\n",
    "\n",
    "for i in range(n):\n",
    "    print(result[i][0], end=' ')\n",
    "'''\n",
    "    "
   ]
  },
  {
   "cell_type": "code",
   "execution_count": 6,
   "metadata": {},
   "outputs": [
    {
     "name": "stdout",
     "output_type": "stream",
     "text": [
      "[1, 2, 5, 4, 3]\n",
      "[5, 5, 6, 6, 5]\n",
      "26\n"
     ]
    }
   ],
   "source": [
    "# 실전 문제4 - 두 배열의 원소 교체\n",
    "n, k = map(int, input().split())\n",
    "\n",
    "A = list(map(int, input().split()))\n",
    "print(A)\n",
    "B = list(map(int, input().split()))\n",
    "print(B)\n",
    "\n",
    "A.sort()\n",
    "B.sort(reverse = True)\n",
    "\n",
    "for i in range(k):\n",
    "    if A[i] < B[i] :\n",
    "        A[i],B[i] = B[i], A[i]\n",
    "    else : \n",
    "        break   # a의 원소가 더 크다면 for문 종료 \n",
    "\n",
    "print(sum(A))    # 리스트 원소의 합을 출력"
   ]
  }
 ],
 "metadata": {
  "kernelspec": {
   "display_name": "Python 3",
   "language": "python",
   "name": "python3"
  },
  "language_info": {
   "codemirror_mode": {
    "name": "ipython",
    "version": 3
   },
   "file_extension": ".py",
   "mimetype": "text/x-python",
   "name": "python",
   "nbconvert_exporter": "python",
   "pygments_lexer": "ipython3",
   "version": "3.10.9"
  }
 },
 "nbformat": 4,
 "nbformat_minor": 2
}
