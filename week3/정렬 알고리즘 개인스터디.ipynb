{
 "cells": [
  {
   "cell_type": "code",
   "execution_count": 8,
   "metadata": {},
   "outputs": [
    {
     "name": "stdout",
     "output_type": "stream",
     "text": [
      "3\n"
     ]
    }
   ],
   "source": [
    "# 선택 정렬\n",
    "array = [7, 5, 9, 0, 3, 1, 6, 2, 4, 8]\n",
    "'''\n",
    "for i in range(len(array)):\n",
    "    min_index = i\n",
    "    for j in range(i+1, len(array)):\n",
    "        if array[min_index] > array[j]: # 가장 작은 값을 가진 인덱스 추출을 위한 for문\n",
    "            min_index = j\n",
    "    array[i], array[min_index] = array[min_index], array[i]\n",
    "        \n",
    "    print(array)\n",
    "'''\n",
    "\n",
    "min_index = 0\n",
    "\n",
    "for j in range(1, len(array)):\n",
    "        if array[min_index] > array[j]: # 가장 작은 값을 가진 인덱스 추출을 위한 for문\n",
    "            min_index = j\n",
    "    \n",
    "print(min_index)     \n",
    "    \n",
    "         \n",
    "      "
   ]
  },
  {
   "cell_type": "code",
   "execution_count": 10,
   "metadata": {},
   "outputs": [
    {
     "name": "stdout",
     "output_type": "stream",
     "text": [
      "[5, 7, 9, 0, 3, 1, 6, 2, 4, 8]\n",
      "[5, 7, 9, 0, 3, 1, 6, 2, 4, 8]\n",
      "[0, 5, 7, 9, 3, 1, 6, 2, 4, 8]\n",
      "[0, 3, 5, 7, 9, 1, 6, 2, 4, 8]\n",
      "[0, 1, 3, 5, 7, 9, 6, 2, 4, 8]\n",
      "[0, 1, 3, 5, 6, 7, 9, 2, 4, 8]\n",
      "[0, 1, 2, 3, 5, 6, 7, 9, 4, 8]\n",
      "[0, 1, 2, 3, 4, 5, 6, 7, 9, 8]\n",
      "[0, 1, 2, 3, 4, 5, 6, 7, 8, 9]\n"
     ]
    }
   ],
   "source": [
    "# 삽입 정렬\n",
    "array = [7, 5, 9, 0, 3, 1, 6, 2, 4, 8]\n",
    "\n",
    "for i in range(1, len(array)) :\n",
    "    for j in range(i, 0, -1):\n",
    "        if array[j] < array[j-1]:\n",
    "            array[j],array[j-1] = array[j-1],array[j]\n",
    "        else :\n",
    "            break\n",
    "    print(array)                \n",
    "            "
   ]
  },
  {
   "cell_type": "code",
   "execution_count": 13,
   "metadata": {},
   "outputs": [
    {
     "name": "stdout",
     "output_type": "stream",
     "text": [
      "[5, 7, 9, 0, 3, 1, 6, 2, 4, 8]\n",
      "[5, 4, 9, 0, 3, 1, 6, 2, 7, 8]\n",
      "[5, 4, 2, 0, 3, 1, 6, 9, 7, 8]\n",
      "[1, 4, 2, 0, 3, 5, 6, 9, 7, 8]\n",
      "[1, 0, 2, 4, 3, 5, 6, 9, 7, 8]\n",
      "[0, 1, 2, 4, 3, 5, 6, 9, 7, 8]\n",
      "[0, 1, 2, 4, 3, 5, 6, 9, 7, 8]\n",
      "[0, 1, 2, 3, 4, 5, 6, 9, 7, 8]\n",
      "[0, 1, 2, 3, 4, 5, 6, 9, 7, 8]\n",
      "[0, 1, 2, 3, 4, 5, 6, 8, 7, 9]\n",
      "[0, 1, 2, 3, 4, 5, 6, 7, 8, 9]\n"
     ]
    }
   ],
   "source": [
    "# 퀵정렬\n",
    "array = [5, 7, 9, 0, 3, 1, 6, 2, 4, 8]\n",
    "print(array)\n",
    "\n",
    "def quick_sort(array, start, end):\n",
    "    if start >= end :   # 더이상 정렬할 데이터가 없는 상태\n",
    "        return\n",
    "    pivot = start\n",
    "    left = start + 1\n",
    "    right = end\n",
    "    \n",
    "    while left <= right :   # 엇갈리기전까지\n",
    "        # 피벗보다 큰 데이터를 찾을 때까지 반복\n",
    "        while left <= end and array[left] <= array[pivot] :\n",
    "            left += 1\n",
    "        # 피벗보다 작은 데이터를 찾을 때까지 반복\n",
    "        while right > start and array[right] >= array[pivot]:\n",
    "            right -= 1\n",
    "        \n",
    "        if left > right: # 엇갈린 상태\n",
    "            array[right], array[pivot] = array[pivot], array[right]\n",
    "        else :\n",
    "            array[left], array[right] = array[right], array[left]\n",
    "        print(array)\n",
    "        \n",
    "    quick_sort(array, start, right-1)\n",
    "    quick_sort(array, right+1, end)\n",
    "    \n",
    "quick_sort(array, 0, len(array)-1)                  "
   ]
  },
  {
   "cell_type": "code",
   "execution_count": 14,
   "metadata": {},
   "outputs": [
    {
     "name": "stdout",
     "output_type": "stream",
     "text": [
      "[0, 1, 2, 3, 4, 5, 6, 7, 8, 9]\n"
     ]
    }
   ],
   "source": [
    "# 파이썬의 장점을 살린 퀵 정렬 소스코드\n",
    "array = [5, 7, 9, 0, 3, 1, 6, 2, 4, 8]\n",
    "\n",
    "def quick_sort(array):\n",
    "    if len(array) <= 1:\n",
    "        return array\n",
    "    \n",
    "    pivot = array[0]\n",
    "    tail = array[1:] # 피벗을 제외한 리스트 데이터\n",
    "    \n",
    "    left_side = [x for x in tail if x <= pivot]\n",
    "    right_side = [x for x in tail if x > pivot]\n",
    "    \n",
    "    return quick_sort(left_side) + [pivot] + quick_sort(right_side)\n",
    "\n",
    "print(quick_sort(array))"
   ]
  },
  {
   "cell_type": "code",
   "execution_count": 18,
   "metadata": {},
   "outputs": [
    {
     "name": "stdout",
     "output_type": "stream",
     "text": [
      "0 0 1 1 2 2 3 4 5 5 6 7 8 9 9 "
     ]
    }
   ],
   "source": [
    "# 계수 정렬\n",
    "array = [7, 5, 9, 0, 3, 1, 6, 2, 9, 1, 4, 8, 0, 5, 2]\n",
    "\n",
    "count = [0]*(max(array)+1)\n",
    "\n",
    "for i in array:\n",
    "    count[i] += 1\n",
    "    \n",
    "for i in range(len(count)):\n",
    "    for j in range(count[i]):\n",
    "        print(i, end=' ')"
   ]
  },
  {
   "cell_type": "code",
   "execution_count": 20,
   "metadata": {},
   "outputs": [
    {
     "name": "stdout",
     "output_type": "stream",
     "text": [
      "[0, 1, 2, 3, 4, 5, 6, 7, 8, 9]\n"
     ]
    }
   ],
   "source": [
    "# 파이썬 제공 라이브러리\n",
    "array1 = [7, 5, 9, 0, 3, 1, 6, 2, 4, 8]\n",
    "array2 = [('바나나', 2), ('사과', 5), ('당근', 3)]\n",
    "\n",
    "#result = sorted(array)\n",
    "array1.sort()\n",
    "def setting(data):\n",
    "    return data[1]\n",
    "\n",
    "result = sorted(array2, key=setting)\n",
    "#print(result)\n",
    "print(array1)\n",
    "print(array2)"
   ]
  }
 ],
 "metadata": {
  "kernelspec": {
   "display_name": "Python 3",
   "language": "python",
   "name": "python3"
  },
  "language_info": {
   "codemirror_mode": {
    "name": "ipython",
    "version": 3
   },
   "file_extension": ".py",
   "mimetype": "text/x-python",
   "name": "python",
   "nbconvert_exporter": "python",
   "pygments_lexer": "ipython3",
   "version": "3.10.9"
  }
 },
 "nbformat": 4,
 "nbformat_minor": 2
}
