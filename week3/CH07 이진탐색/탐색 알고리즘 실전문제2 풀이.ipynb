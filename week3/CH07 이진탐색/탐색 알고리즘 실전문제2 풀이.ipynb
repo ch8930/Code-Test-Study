{
 "cells": [
  {
   "cell_type": "code",
   "execution_count": 10,
   "metadata": {},
   "outputs": [
    {
     "name": "stdout",
     "output_type": "stream",
     "text": [
      "N =5\n",
      "[8, 3, 7, 9, 2]\n",
      "M =3\n",
      "[5, 7, 9]\n",
      "no yes yes "
     ]
    }
   ],
   "source": [
    "# 실전 문제2 - 부품 찾기\n",
    "\n",
    "def search_stock(stock, target, start, end) :\n",
    "\n",
    "    while start <= end :\n",
    "        \n",
    "        mid = (start+end)//2\n",
    "        \n",
    "        if target == stock[mid] :\n",
    "            print('yes', end=' ')\n",
    "            return    \n",
    "        elif target < stock[mid] :\n",
    "            end = mid-1 \n",
    "        elif target > stock[mid] :\n",
    "            start = mid+1\n",
    "        \n",
    "    print('no', end=' ')\n",
    "    return \n",
    "\n",
    "n = int(input())\n",
    "print(\"N =\"+str(n))\n",
    "\n",
    "stock = list(map(int, input().split()))\n",
    "print(stock)\n",
    "\n",
    "m = int(input())\n",
    "print(\"M =\"+str(m))\n",
    "\n",
    "order = list(map(int, input().split()))\n",
    "print(order)\n",
    "\n",
    "stock.sort()\n",
    "\n",
    "     \n",
    "for i in order :\n",
    "    search_stock(stock, i, 0, n-1)        "
   ]
  },
  {
   "cell_type": "code",
   "execution_count": 11,
   "metadata": {},
   "outputs": [
    {
     "name": "stdout",
     "output_type": "stream",
     "text": [
      "no yes yes "
     ]
    }
   ],
   "source": [
    "# 실전 문제2 - 부품 찾기(계수 정렬을 통한 구현)\n",
    "\n",
    "n = int(input())\n",
    "stock = [0]*1000001 # 실제 범위는 1<= n <= 1000000이지만, 인덱스로는 999999가 되기때문에 1000001을 선언해주어야 한다.\n",
    "\n",
    "\n",
    "for i in input().split():\n",
    "    stock[int(i)] = 1\n",
    "    \n",
    "m = int(input())\n",
    "order = list(map(int, input().split()))\n",
    "\n",
    "for i in order:\n",
    "    if stock[i] == 1 :\n",
    "        print('yes', end=' ')\n",
    "    else :\n",
    "        print('no', end=' ')       "
   ]
  },
  {
   "cell_type": "code",
   "execution_count": 14,
   "metadata": {},
   "outputs": [
    {
     "ename": "TypeError",
     "evalue": "'builtin_function_or_method' object is not iterable",
     "output_type": "error",
     "traceback": [
      "\u001b[1;31m---------------------------------------------------------------------------\u001b[0m",
      "\u001b[1;31mTypeError\u001b[0m                                 Traceback (most recent call last)",
      "Cell \u001b[1;32mIn[14], line 7\u001b[0m\n\u001b[0;32m      4\u001b[0m stock \u001b[38;5;241m=\u001b[39m \u001b[38;5;28mset\u001b[39m(\u001b[38;5;28mmap\u001b[39m(\u001b[38;5;28mint\u001b[39m, \u001b[38;5;28minput\u001b[39m()\u001b[38;5;241m.\u001b[39msplit()))\n\u001b[0;32m      6\u001b[0m m \u001b[38;5;241m=\u001b[39m \u001b[38;5;28mint\u001b[39m(\u001b[38;5;28minput\u001b[39m())\n\u001b[1;32m----> 7\u001b[0m order \u001b[38;5;241m=\u001b[39m \u001b[38;5;28mlist\u001b[39m(\u001b[38;5;28;43mmap\u001b[39;49m\u001b[43m(\u001b[49m\u001b[38;5;28;43mint\u001b[39;49m\u001b[43m,\u001b[49m\u001b[43m \u001b[49m\u001b[38;5;28;43minput\u001b[39;49m\u001b[43m(\u001b[49m\u001b[43m)\u001b[49m\u001b[38;5;241;43m.\u001b[39;49m\u001b[43msplit\u001b[49m\u001b[43m)\u001b[49m)\n\u001b[0;32m      9\u001b[0m \u001b[38;5;28;01mfor\u001b[39;00m i \u001b[38;5;129;01min\u001b[39;00m order:\n\u001b[0;32m     10\u001b[0m     \u001b[38;5;28;01mif\u001b[39;00m i \u001b[38;5;129;01min\u001b[39;00m stock:\n",
      "\u001b[1;31mTypeError\u001b[0m: 'builtin_function_or_method' object is not iterable"
     ]
    }
   ],
   "source": [
    "# 실전 문제2 - 부품 찾기(집합 자료형을 사용하여 구현)\n",
    "n = int(input())\n",
    "\n",
    "stock = set(map(int, input().split()))\n",
    "\n",
    "m = int(input())\n",
    "order = list(map(int, input().split()))\n",
    "\n",
    "for i in order:\n",
    "    if i in stock:\n",
    "        print('yes', end=' ')\n",
    "    else:\n",
    "        print('no', end=' ')"
   ]
  }
 ],
 "metadata": {
  "kernelspec": {
   "display_name": "Python 3",
   "language": "python",
   "name": "python3"
  },
  "language_info": {
   "codemirror_mode": {
    "name": "ipython",
    "version": 3
   },
   "file_extension": ".py",
   "mimetype": "text/x-python",
   "name": "python",
   "nbconvert_exporter": "python",
   "pygments_lexer": "ipython3",
   "version": "3.10.9"
  }
 },
 "nbformat": 4,
 "nbformat_minor": 2
}
