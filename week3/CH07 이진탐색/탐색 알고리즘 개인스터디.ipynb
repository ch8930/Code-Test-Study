{
 "cells": [
  {
   "cell_type": "code",
   "execution_count": 2,
   "metadata": {},
   "outputs": [
    {
     "name": "stdout",
     "output_type": "stream",
     "text": [
      "생성할 원소 개수 -5\n",
      "찾을 문자열 -선유\n",
      "['지현', '하늘', '도현', '명서', '선유']\n",
      "5\n"
     ]
    }
   ],
   "source": [
    "# 순차탐색\n",
    "\n",
    "def sequential_search(n, target, array):\n",
    "    for i in range(n):\n",
    "        if array[i] == target:\n",
    "            return i + 1\n",
    "\n",
    "input_data = input().split()\n",
    "n = int(input_data[0])\n",
    "target = input_data[1]\n",
    "\n",
    "print(\"생성할 원소 개수 -\"+ str(n))\n",
    "print(\"찾을 문자열 -\"+ target)\n",
    "\n",
    "array = input().split()\n",
    "print(array)\n",
    "\n",
    "print(sequential_search(n, target, array))        "
   ]
  },
  {
   "cell_type": "code",
   "execution_count": 9,
   "metadata": {},
   "outputs": [
    {
     "name": "stdout",
     "output_type": "stream",
     "text": [
      "원소 개수 -10\n",
      "찾고자 하는 값 -5\n",
      "[1, 3, 5, 7, 9, 11, 13, 15, 17, 19]\n",
      "None\n",
      "원소가 없슈\n"
     ]
    }
   ],
   "source": [
    "#이진탐색 재귀함수를 통한 구현\n",
    "\n",
    "def binary_search(array, target, start, end):\n",
    "    if start > end :\n",
    "        return None\n",
    "    \n",
    "    mid = (start + end)//2\n",
    "    \n",
    "    if array[mid] == target:\n",
    "        return mid\n",
    "    elif array[mid] > target:\n",
    "        return binary_search(array, target, mid+1, end)\n",
    "    elif array[mid] < target:\n",
    "        return binary_search(array, target, start, mid-1)\n",
    "    \n",
    "n, target = list(map(int, input().split()))\n",
    "print(\"원소 개수 -\"+str(n))\n",
    "print(\"찾고자 하는 값 -\"+str(target))\n",
    "    \n",
    "array = list(map(int, input().split()))\n",
    "print(array)\n",
    "    \n",
    "result = binary_search(array, target, 0, n-1)\n",
    "    \n",
    "print(result)\n",
    "    \n",
    "if result == None :\n",
    "    print(\"원소가 없슈\")\n",
    "else :\n",
    "    print(result + 1)    \n",
    "    "
   ]
  },
  {
   "cell_type": "code",
   "execution_count": 10,
   "metadata": {},
   "outputs": [
    {
     "name": "stdout",
     "output_type": "stream",
     "text": [
      "원소 개수 -10\n",
      "찾고자 하는 값 -7\n",
      "[1, 3, 5, 7, 9, 11, 13, 15, 17, 19]\n",
      "3\n",
      "4\n"
     ]
    }
   ],
   "source": [
    "#이진탐색 반복문을 통한 구현\n",
    "\n",
    "def binary_search(array, target, start, end):\n",
    "    \n",
    "    while start <= end:\n",
    "        \n",
    "        mid = (start + end) // 2    \n",
    "        \n",
    "        if array[mid] == target:\n",
    "            return mid\n",
    "        elif array[mid] > target:\n",
    "            end = mid - 1\n",
    "        else:\n",
    "            start = mid + 1\n",
    "    \n",
    "    return None\n",
    "\n",
    "n, target = list(map(int, input().split()))\n",
    "print(\"원소 개수 -\"+str(n))\n",
    "print(\"찾고자 하는 값 -\"+str(target))\n",
    "    \n",
    "array = list(map(int, input().split()))\n",
    "print(array)\n",
    "    \n",
    "result = binary_search(array, target, 0, n-1)\n",
    "    \n",
    "print(result)\n",
    "    \n",
    "if result == None :\n",
    "    print(\"원소가 없슈\")\n",
    "else :\n",
    "    print(result + 1)             "
   ]
  },
  {
   "cell_type": "code",
   "execution_count": 1,
   "metadata": {},
   "outputs": [],
   "source": [
    "# 한 줄 입력받아 출력하는 소스코드\n",
    "# 입력값이 커질 경우 input() 함수를 사용하면 동작 속도가 느려서 시간 초과로 오답 판정을 받을 수 있음\n",
    "import sys\n",
    "\n",
    "input_data = sys.stdin.readline().rstrip()\n",
    "\n",
    "print(input_data)"
   ]
  }
 ],
 "metadata": {
  "kernelspec": {
   "display_name": "Python 3",
   "language": "python",
   "name": "python3"
  },
  "language_info": {
   "codemirror_mode": {
    "name": "ipython",
    "version": 3
   },
   "file_extension": ".py",
   "mimetype": "text/x-python",
   "name": "python",
   "nbconvert_exporter": "python",
   "pygments_lexer": "ipython3",
   "version": "3.10.9"
  }
 },
 "nbformat": 4,
 "nbformat_minor": 2
}
