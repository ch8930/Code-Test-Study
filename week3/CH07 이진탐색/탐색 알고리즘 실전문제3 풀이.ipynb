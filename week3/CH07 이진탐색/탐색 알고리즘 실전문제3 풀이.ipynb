{
 "cells": [
  {
   "cell_type": "code",
   "execution_count": 4,
   "metadata": {},
   "outputs": [
    {
     "name": "stdout",
     "output_type": "stream",
     "text": [
      "9 25\n",
      "9\n"
     ]
    }
   ],
   "source": [
    "# 실전 문제3 - 떡볶이 떡 만들기\n",
    "\n",
    "n, m = map(int, input().split())\n",
    "tteok = list(map(int, input().split()))\n",
    "\n",
    "def make_tteok(tteok, target, start, end):\n",
    "    \n",
    "    while start <= end :\n",
    "        \n",
    "        result = 0\n",
    "        mid = (start+end)//2\n",
    "        \n",
    "        for i in tteok:     # 절단 후 길이 측정\n",
    "            if i > mid:\n",
    "                result += (i-mid)\n",
    "        print(mid, result)\n",
    "        \n",
    "        if result == target:\n",
    "            return mid\n",
    "        elif result < target:     # 짧다고 측정되면 절단 길이가 짧아져야 함\n",
    "            end = mid - 1\n",
    "        elif result > target:     # 길다고 측정되면 절단 길이가 길어져야 함\n",
    "            start = mid + 1\n",
    "            \n",
    "    return mid\n",
    "            \n",
    "start = 0\n",
    "end = max(tteok)\n",
    "\n",
    "h = make_tteok(tteok, m, start, end)\n",
    "\n",
    "print(h)\n",
    "\n",
    "\n",
    "\n"
   ]
  }
 ],
 "metadata": {
  "kernelspec": {
   "display_name": "Python 3",
   "language": "python",
   "name": "python3"
  },
  "language_info": {
   "codemirror_mode": {
    "name": "ipython",
    "version": 3
   },
   "file_extension": ".py",
   "mimetype": "text/x-python",
   "name": "python",
   "nbconvert_exporter": "python",
   "pygments_lexer": "ipython3",
   "version": "3.10.9"
  }
 },
 "nbformat": 4,
 "nbformat_minor": 2
}
